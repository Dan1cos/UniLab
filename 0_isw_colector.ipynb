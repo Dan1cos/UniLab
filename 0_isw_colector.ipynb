{
 "cells": [
  {
   "cell_type": "code",
   "execution_count": 1,
   "id": "3c15a4ca",
   "metadata": {},
   "outputs": [],
   "source": [
    "import requests\n",
    "from calendar import monthrange\n",
    "from datetime import datetime\n",
    "import os\n",
    "from utils import save_page as sp"
   ]
  },
  {
   "cell_type": "code",
   "execution_count": 3,
   "id": "510e3eb6",
   "metadata": {},
   "outputs": [],
   "source": [
    "output_folder = \"isw\"\n",
    "BASE_URL = \"https://www.understandingwar.org/backgrounder/russian-offensive-campaign-assessment-\""
   ]
  },
  {
   "cell_type": "markdown",
   "id": "90822ef0",
   "metadata": {},
   "source": [
    "# 2022 February24 - December31"
   ]
  },
  {
   "cell_type": "code",
   "execution_count": 4,
   "id": "394912b5",
   "metadata": {},
   "outputs": [],
   "source": [
    "months = ['january', 'february' ,'march', 'april', 'may', 'june', 'july', 'august', 'september', 'october', 'november', 'december']\n",
    "Year = 2022\n",
    "mon_ind = 1\n",
    "\n",
    "for m in months[1:]:\n",
    "    mon_ind += 1\n",
    "    \n",
    "    if m == 'february':\n",
    "        first_day = 24\n",
    "        day_count = monthrange(Year, mon_ind)\n",
    "        \n",
    "        for d in range(first_day, day_count[1]+1):\n",
    "            date = f\"{m}-{d}\"\n",
    "            file_name = f\"{Year}_{mon_ind}_{d}\"\n",
    "            \n",
    "            feb_urls = {\n",
    "                24: \"https://www.understandingwar.org/backgrounder/russia-ukraine-warning-update-initial-russian-offensive-campaign-assessment\",\n",
    "                25: \"https://www.understandingwar.org/backgrounder/russia-ukraine-warning-update-russian-offensive-campaign-assessment-february-25-2022\",\n",
    "                26: \"https://www.understandingwar.org/backgrounder/russia-ukraine-warning-update-russian-offensive-campaign-assessment-february-26\",\n",
    "                27: \"https://www.understandingwar.org/backgrounder/russia-ukraine-warning-update-russian-offensive-campaign-assessment-february-27\",\n",
    "                28: \"https://www.understandingwar.org/backgrounder/russian-offensive-campaign-assessment-february-28-2022\"\n",
    "            }\n",
    "            \n",
    "            url = feb_urls.get(d);\n",
    "            sp.save_page(url, file_name, output_folder)\n",
    "    \n",
    "    else:\n",
    "        first_day = 1\n",
    "        day_count = monthrange(Year, mon_ind)\n",
    "        \n",
    "        for d in range(first_day, day_count[1]+1):\n",
    "            date = f\"{m}-{d}\"\n",
    "            file_name = f\"{Year}_{mon_ind}_{d}\"\n",
    "            url = f\"{BASE_URL}{date}\"\n",
    "            \n",
    "            sp.save_page(url, file_name, output_folder)"
   ]
  },
  {
   "cell_type": "markdown",
   "id": "4d231588",
   "metadata": {},
   "source": [
    "# 2023 January 2 - 25"
   ]
  },
  {
   "cell_type": "code",
   "execution_count": 5,
   "id": "603f440c",
   "metadata": {},
   "outputs": [],
   "source": [
    "m = 'january'\n",
    "mon_ind = 1\n",
    "Year = 2023\n",
    "first_day = 2 #no data about 1 January\n",
    "\n",
    "for d in range(first_day, 26):\n",
    "    date = f\"{m}-{d}-{Year}\"\n",
    "    file_name = f\"{Year}_{mon_ind}_{d}\"\n",
    "    url = f\"{BASE_URL}{date}\"\n",
    "    \n",
    "    sp.save_page(url, file_name, output_folder)"
   ]
  },
  {
   "cell_type": "code",
   "execution_count": 2,
   "id": "545489b4",
   "metadata": {},
   "outputs": [],
   "source": [
    "sp.take_page(\"12.03.2023\")"
   ]
  }
 ],
 "metadata": {
  "kernelspec": {
   "display_name": "Python 3 (ipykernel)",
   "language": "python",
   "name": "python3"
  },
  "language_info": {
   "codemirror_mode": {
    "name": "ipython",
    "version": 3
   },
   "file_extension": ".py",
   "mimetype": "text/x-python",
   "name": "python",
   "nbconvert_exporter": "python",
   "pygments_lexer": "ipython3",
   "version": "3.8.10"
  }
 },
 "nbformat": 4,
 "nbformat_minor": 5
}
